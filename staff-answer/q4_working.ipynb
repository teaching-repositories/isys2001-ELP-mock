{
  "nbformat": 4,
  "nbformat_minor": 0,
  "metadata": {
    "colab": {
      "private_outputs": true,
      "provenance": [],
      "authorship_tag": "ABX9TyONvctgd2BxivLKfB/foNNP",
      "include_colab_link": true
    },
    "kernelspec": {
      "name": "python3",
      "display_name": "Python 3"
    },
    "language_info": {
      "name": "python"
    }
  },
  "cells": [
    {
      "cell_type": "markdown",
      "metadata": {
        "id": "view-in-github",
        "colab_type": "text"
      },
      "source": [
        "<a href=\"https://colab.research.google.com/github/michael-borck/isys2001-ELP-mock/blob/main/staff-answer/q4_working.ipynb\" target=\"_parent\"><img src=\"https://colab.research.google.com/assets/colab-badge.svg\" alt=\"Open In Colab\"/></a>"
      ]
    },
    {
      "cell_type": "markdown",
      "source": [
        "# Q4 Discusison\n",
        "\n",
        "This is a personal reflection exercise and is about your personal learning journey.  Being personal in nature makes it impossible to get wrong but **MANDATES originality**, no AI, no copy-n-paste.\n",
        "\n",
        "To guide you in writing your report, I have provided an outline below. Feel free to modify the title, sections, and other elements, but keep in mind that it should retain the form and substance of a report.\n",
        "\n",
        ">*Despite this being a simulated assessment, Question 4 will indeed be included in the final exam. I encourage you to begin working on this particular question immediately for ample preparation.*"
      ],
      "metadata": {
        "id": "XpgL3Bvmjl-m"
      }
    },
    {
      "cell_type": "markdown",
      "source": [
        "## Suggested Report Sturcuture"
      ],
      "metadata": {
        "id": "KZhE0XpslHp_"
      }
    },
    {
      "cell_type": "markdown",
      "source": [
        "[Cover Page]\n",
        "\n",
        "-----------------------\n",
        "Introduction to Business Programming\n",
        "Reflective Report\n",
        "ISYS2001\n",
        "\n",
        "Name: [Your Name]\n",
        "Student Number: [Your Student Number]\n",
        "Date: [Your Submission Date]\n",
        "-----------------------\n",
        "\n",
        "**Table of Contents**\n",
        "\n",
        "1. Introduction\n",
        "2. Reflective Analysis\n",
        "3. Contributions to Understanding of ISYS2001\n",
        "4. Conclusion\n",
        "5. References\n",
        "6. Appendix: Weekly Journal Entries\n",
        "\n",
        "-------------------------------\n",
        "\n",
        "**1. Introduction**\n",
        "\n",
        "In this report, I reflect upon my experiences in the Introduction to Business Programming course, where we....\n",
        "\n",
        "**2. Reflective Analysis**\n",
        "\n",
        "The most impactful activity within this course was the....\n",
        "\n",
        "\n",
        "**3. Contributions to Understanding of ISYS2001**\n",
        "\n",
        "This assignment directly linked to various topics in ISYS2001, such as...\n",
        "\n",
        "\n",
        "**4. Conclusion**\n",
        "\n",
        "The Introduction to Business Programming course has been....\n",
        "\n",
        "**5. References**\n",
        "\n",
        "[Add your references here]\n",
        "\n",
        "--------------------------\n",
        "\n",
        "**6. Appendix: Weekly Journal Entries**\n",
        "\n",
        "[Here, insert your weekly journal entries, following a format similar to the one below]\n",
        "\n",
        "Week 1: Introduction to Python\n",
        "\n",
        "[Reflection]\n",
        "[Code]\n",
        "\n",
        "Week 2: Data Types and Variables\n",
        "\n",
        "[Reflection]\n",
        "[Code]\n",
        "\n",
        "[Continue for the remaining weeks]\n",
        "\n",
        "---------------------------------\n",
        "\n",
        "[End of the document]\n",
        "\n",
        "Please replace the sections in brackets \"[ ]\" with your information and weekly journal entries. Remember to properly reference any external sources used in your report."
      ],
      "metadata": {
        "id": "1XFbaUqEiQEb"
      }
    },
    {
      "cell_type": "code",
      "execution_count": null,
      "metadata": {
        "id": "NvZv3Jdsf-8Z"
      },
      "outputs": [],
      "source": []
    }
  ]
}