{
  "nbformat": 4,
  "nbformat_minor": 0,
  "metadata": {
    "colab": {
      "private_outputs": true,
      "provenance": [],
      "authorship_tag": "ABX9TyNrR5kYNQLxX1WXtFaivlTg",
      "include_colab_link": true
    },
    "kernelspec": {
      "name": "python3",
      "display_name": "Python 3"
    },
    "language_info": {
      "name": "python"
    }
  },
  "cells": [
    {
      "cell_type": "markdown",
      "metadata": {
        "id": "view-in-github",
        "colab_type": "text"
      },
      "source": [
        "<a href=\"https://colab.research.google.com/github/michael-borck/isys2001-ELP-mock/blob/main/isys2001_elp_q3_(mock).ipynb\" target=\"_parent\"><img src=\"https://colab.research.google.com/assets/colab-badge.svg\" alt=\"Open In Colab\"/></a>"
      ]
    },
    {
      "cell_type": "code",
      "execution_count": null,
      "metadata": {
        "id": "BZ4H_luCfWC2"
      },
      "outputs": [],
      "source": [
        "x = int(input(\"Enter value for x\")) \n",
        "print(\"The square of x is\", x * x\n",
        "y = input(\"Enter value for y\") \n",
        "print(\"The product of x and y is\", x * y)        \n",
        "if x > y:\n",
        "  print(\"The difference is\" x - y)        \n",
        "else : \n",
        "  print(\"The difference is\", x - y)"
      ]
    }
  ]
}
