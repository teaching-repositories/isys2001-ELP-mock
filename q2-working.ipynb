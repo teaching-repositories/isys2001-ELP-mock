{
  "nbformat": 4,
  "nbformat_minor": 0,
  "metadata": {
    "colab": {
      "name": "q2-working.ipynb",
      "provenance": [],
      "authorship_tag": "ABX9TyO2LOwSfwyvtAlT5S109a0h",
      "include_colab_link": true
    },
    "kernelspec": {
      "name": "python3",
      "display_name": "Python 3"
    },
    "language_info": {
      "name": "python"
    }
  },
  "cells": [
    {
      "cell_type": "markdown",
      "metadata": {
        "id": "view-in-github",
        "colab_type": "text"
      },
      "source": [
        "<a href=\"https://colab.research.google.com/github/michael-borck/isys2001-ELP-mock/blob/main/car_rental_costs.ipynb\" target=\"_parent\"><img src=\"https://colab.research.google.com/assets/colab-badge.svg\" alt=\"Open In Colab\"/></a>"
      ]
    },
    {
      "cell_type": "code",
      "execution_count": 3,
      "metadata": {
        "id": "vYEJMqCtMvXb"
      },
      "outputs": [],
      "source": [
        "def get_number(prompt):\n",
        " return int(input(prompt + \": \"))\n",
        "\n",
        "def get_cost(distance, days, cost_per_k, cost_per_day):\n",
        " discount = get_discount(distance, days)\n",
        " cost = distance * cost_per_k + days * cost_per_day - discount\n",
        " return round(cost)\n",
        "\n",
        "def get_discount(distance, days):\n",
        " if days > 10 or distance > 5000:\n",
        "  return 100\n",
        " return 0\n",
        "\n",
        "def display_summary(num_k, num_days, total_cost):\n",
        " discount = get_discount(num_k, num_days)\n",
        " print(\"Distance:\", num_k, \"kilometres\")\n",
        " print(\"Days:\", num_days, \"days\")\n",
        " if discount > 0:\n",
        "  print(\"Discount: $\", discount, sep=\"\")\n",
        " print(\"Total: $\", total_cost, sep=\"\")\n",
        "\n",
        "\n",
        "distance_prompt = \"Enter distance travelled\"\n",
        "days_prompt = \"Enter number of days\"\n",
        "cost_per_k = 0.15\n",
        "cost_per_day = 20\n",
        "\n"
      ]
    }
  ]
}
