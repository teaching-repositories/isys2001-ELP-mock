{
  "nbformat": 4,
  "nbformat_minor": 0,
  "metadata": {
    "colab": {
      "private_outputs": true,
      "provenance": [],
      "authorship_tag": "ABX9TyM+rCoT0/REcS14h/9TMkot",
      "include_colab_link": true
    },
    "kernelspec": {
      "name": "python3",
      "display_name": "Python 3"
    },
    "language_info": {
      "name": "python"
    }
  },
  "cells": [
    {
      "cell_type": "markdown",
      "metadata": {
        "id": "view-in-github",
        "colab_type": "text"
      },
      "source": [
        "<a href=\"https://colab.research.google.com/github/michael-borck/isys2001-ELP-mock/blob/main/assessment_questions.ipynb\" target=\"_parent\"><img src=\"https://colab.research.google.com/assets/colab-badge.svg\" alt=\"Open In Colab\"/></a>"
      ]
    },
    {
      "cell_type": "markdown",
      "source": [
        "<center>\n",
        "\n",
        "# (MOCK) Extended Learning Portfolio\n",
        "\n",
        "**ISYS2001 Introduction to Business Programming**\n",
        "\n",
        "<small>School of Management\n",
        "\n",
        "Semester 1 20XX\n",
        "</small>\n",
        "</center>\n",
        "\n",
        "This examination is an open-book format. You are permitted to utilize a variety of resources, including textbooks, web content, and AI tools, to complete the exam. However, it's important to note that all work submitted must be your own. Any work or ideas not your own must be properly referenced. \n",
        "\n",
        "Please refrain from discussing your responses to these questions with fellow students. If you have any inquiries about the questions about this assessment, please contact the instructor directly.  Any questions submitted to the instructor concerning this assesment will have the question and responses will be posted to this discussion forum.  \n",
        "\n",
        "The examination duration is a total of 24 hours. This time frame begins at the predetermined exam start time and does not depend on when you commence the download. If you have accommodations under a CAP arrangement, the duration of the exam will be adjusted accordingly. If you feel that your CAP accommodations have not been satisfactorily implemented, please reach out to me immediately.\n",
        "\n",
        "This examination consists of four questions in total, and you are required to provide answers to all of them. Each question should be contained within its own notebook, with the exception of Question Four, which can be compiled in a Microsoft Word document. To submit your answers, please establish a private GitHub repository and upload all of your responses to the designated questions, inclusive of the Word document for Question Four, to this repository.\n",
        "\n",
        "Upon completion of all the questions, proceed to download the zip file of your GitHub repository. This file should be submitted via the link provided on Blackboard. Additionally, a separate submission of the Word document for Question Four must be made through the Turnitin link available on Blackboard.\n",
        "\n",
        "> *Note: This is a mock assessment. Except for Question 4, the rest of the questions in this exercise will NOT be included in the final assessment. These questions are designed to provide you with an understanding of the style of questions that will be used in the final assessment. While all topics covered during the semester are subject to examination, not all will be assessed.*"
      ],
      "metadata": {
        "id": "1M9yB5U0yefZ"
      }
    },
    {
      "cell_type": "markdown",
      "source": [
        "# Question 1\n",
        "\n",
        "Design and implement an application that calculates and display the gross pay for an hourly \n",
        "paid employee. Gross pay is calculated by multiplying the hours worked by hourly pay rate. \n",
        "Your design should prompt the user for hours worked and hourly pay rate and calculate and \n",
        "display the gross pay. The application should allow the user to repeat the calculations for \n",
        "different inputs. \n",
        "Your design should demonstrate the first four steps of the development methodology used in \n",
        "ISYS2001. You can write your in a Word document or a notebook. \n",
        "Create a notebook called gross_pay.ipynb to implement your design. Your implementation \n",
        "should follow best practices and demonstrate the last two steps of the methodology. This \n",
        "include at least input validation and testing.\n",
        "\n",
        "**[40 Marks]**"
      ],
      "metadata": {
        "id": "w3Y-At852J91"
      }
    },
    {
      "cell_type": "code",
      "execution_count": null,
      "metadata": {
        "id": "F6DXwieOyV39"
      },
      "outputs": [],
      "source": []
    },
    {
      "cell_type": "markdown",
      "source": [
        "# Question 2\n",
        "\n",
        "You have recently been hired as a junior developer at a bustling tech company. On you first day, you supervisor, Sue, calls me into his office. They look at you seriously over their cup of coffee and then pulls up a screen full of code.\n",
        "\n",
        "\"This is part of a legacy system that we've been maintaining,\" Sue explains. \"It was written by a previous developer who didn't pay much attention to best practices, so it's poorly documented, has vague variable names and contains spelling errors. The program also doesn't seme to be working, but here is some examples demonstrating the funcitonality\"\n",
        "\n",
        "    Enter distance travelled: 6050\n",
        "    Enter number of days: 7\n",
        "    Distance: 6050 kilometres\n",
        "    Days: 7 days\n",
        "    Discount: $100 \n",
        "    Total: $948\n",
        "\n",
        "    Enter distance travelled: 6050\n",
        "    Enter number of days: 7\n",
        "    Distance: 6050 kilometres\n",
        "    Days: 7 days\n",
        "    Discount: $100 \n",
        "    Total: $948\n",
        "\n",
        "\"Your task is to understand what this code does, get it working and then rewrite it following industry best practices.  We would prefer a Colab Forms interface, but simple text prompt interface is sufficinet\"\n",
        "\n",
        ">*Tip: Demonstrating your understanding of the problem isn't solely about the\n",
        "final answer. The methodology and reasoning you use to arrive at that answer\n",
        "is of equal importance. It's recommended to clearly outline your working\n",
        "process in the space provided or in a separate answer booklet, if available.\n",
        "This allows for partial credit in the event of an incorrect final answer\n",
        "but correct process.*\n",
        "\n",
        "The code is also provided in isys2001-elp-q2-(MOCK).ipynb"
      ],
      "metadata": {
        "id": "yYD1q2Mx95vB"
      }
    },
    {
      "cell_type": "code",
      "source": [
        "def g_n(prompt):\n",
        "    return int(input(prompt + \": \"))\n",
        "\n",
        "def g_c(dist, dys, cpk, cpd):\n",
        "    dscnt = g_dscnt(dist, dys)\n",
        "    cst = dist * cpk + dys * cpd - dscnt\n",
        "    return round(cst)\n",
        "\n",
        "def g_dscnt(dist, dys):\n",
        "    if dys > 10 or dist > 5000:\n",
        "        return 100\n",
        "    return 0\n",
        "\n",
        "def d_smmry(num_k, num_dys, ttl_cst):\n",
        "    dscnt = g_dscnt(num_k, num_dys)\n",
        "    print(\"Distnace:\", num_k, \"kilometers\")\n",
        "    print(\"Dys:\", num_dys, \"days\")\n",
        "    if dscnt > 0:\n",
        "        print(\"Dscnt: $\", dscnt, sep=\"\")\n",
        "    print(\"Ttl: $\", ttl_cst, sep=\"\")\n",
        "\n",
        "\n",
        "d_prompt = \"Entor distnace trvlld\"\n",
        "dys_prompt = \"Entor numbr of dys\"\n",
        "cpk = 0.15\n",
        "cpd = 20"
      ],
      "metadata": {
        "id": "abTCNyYG_h4c"
      },
      "execution_count": null,
      "outputs": []
    },
    {
      "cell_type": "code",
      "source": [],
      "metadata": {
        "id": "IWWm6XAjfI3r"
      },
      "execution_count": null,
      "outputs": []
    },
    {
      "cell_type": "markdown",
      "source": [
        "# Question 3\n",
        "\n",
        "Please enhance the code provided below, showcasing as many of the industry best practices as we've covered during this semester. The code is intentionally straightforward, allowing you to concentrate on illustrating these best practices rather than focusing extensively on the program's logic.\n",
        "\n",
        "The code is also provided in isys2001-elp-q3-(MOCK).ipynb\n"
      ],
      "metadata": {
        "id": "YaDX0dOQA_py"
      }
    },
    {
      "cell_type": "code",
      "source": [
        "x = int(input(\"Enter value for x\")) \n",
        "print(\"The square of x is\", x * x\n",
        "y = input(\"Enter value for y\") \n",
        "print(\"The product of x and y is\", x * y)        \n",
        "if x > y:\n",
        "  print(\"The difference is\" x - y)        \n",
        "else : \n",
        "  print(\"The difference is\", x - y)"
      ],
      "metadata": {
        "id": "P8zthhf7BLgG"
      },
      "execution_count": null,
      "outputs": []
    },
    {
      "cell_type": "code",
      "source": [],
      "metadata": {
        "id": "osaBpxsQfIQJ"
      },
      "execution_count": null,
      "outputs": []
    },
    {
      "cell_type": "markdown",
      "source": [
        "# Question 4\n",
        "\n",
        "Write a reflective report that identifies and discusses what you perceive as the most impactful activity within this course unit, and its contributions to your understanding of an ISYS2001 activity or topic. **Additionally, please incorporate all your weekly journal entries as an appendix to this report.** The report should be prepared in a Microsoft Word document, which will be submitted via the TurnItin link available on Blackboard.\n",
        "\n",
        "> *Despite this being a simulated assessment, Question 4 will indeed be included in the final exam. I encourage you to begin working on this particular question immediately for ample preparation.*"
      ],
      "metadata": {
        "id": "YQ0itNBkCClk"
      }
    },
    {
      "cell_type": "code",
      "source": [],
      "metadata": {
        "id": "1MRfZlWQCB_X"
      },
      "execution_count": null,
      "outputs": []
    }
  ]
}
