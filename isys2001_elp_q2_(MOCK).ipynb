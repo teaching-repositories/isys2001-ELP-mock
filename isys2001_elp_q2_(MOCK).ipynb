{
  "nbformat": 4,
  "nbformat_minor": 0,
  "metadata": {
    "colab": {
      "private_outputs": true,
      "provenance": [],
      "authorship_tag": "ABX9TyNX5Fq86zDJHFxY9vA7yj8S",
      "include_colab_link": true
    },
    "kernelspec": {
      "name": "python3",
      "display_name": "Python 3"
    },
    "language_info": {
      "name": "python"
    }
  },
  "cells": [
    {
      "cell_type": "markdown",
      "metadata": {
        "id": "view-in-github",
        "colab_type": "text"
      },
      "source": [
        "<a href=\"https://colab.research.google.com/github/michael-borck/isys2001-ELP-mock/blob/main/isys2001_elp_q2_(MOCK).ipynb\" target=\"_parent\"><img src=\"https://colab.research.google.com/assets/colab-badge.svg\" alt=\"Open In Colab\"/></a>"
      ]
    },
    {
      "cell_type": "code",
      "execution_count": null,
      "metadata": {
        "id": "WwOVzgytd4e3"
      },
      "outputs": [],
      "source": [
        "def g_n(prompt):\n",
        "    return int(input(prompt + \": \"))\n",
        "\n",
        "def g_c(dist, dys, cpk, cpd):\n",
        "    dscnt = g_dscnt(dist, dys)\n",
        "    cst = dist * cpk + dys * cpd - dscnt\n",
        "    return round(cst)\n",
        "\n",
        "def g_dscnt(dist, dys):\n",
        "    if dys > 10 or dist > 5000:\n",
        "        return 100\n",
        "    return 0\n",
        "\n",
        "def d_smmry(num_k, num_dys, ttl_cst):\n",
        "    dscnt = g_dscnt(num_k, num_dys)\n",
        "    print(\"Distnace:\", num_k, \"kilometers\")\n",
        "    print(\"Dys:\", num_dys, \"days\")\n",
        "    if dscnt > 0:\n",
        "        print(\"Dscnt: $\", dscnt, sep=\"\")\n",
        "    print(\"Ttl: $\", ttl_cst, sep=\"\")\n",
        "\n",
        "\n",
        "d_prompt = \"Entor distnace trvlld\"\n",
        "dys_prompt = \"Entor numbr of dys\"\n",
        "cpk = 0.15\n",
        "cpd = 20"
      ]
    }
  ]
}